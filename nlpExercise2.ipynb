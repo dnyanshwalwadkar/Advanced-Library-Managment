{
  "nbformat": 4,
  "nbformat_minor": 0,
  "metadata": {
    "colab": {
      "name": "nlpExercise2.ipynb",
      "provenance": [],
      "authorship_tag": "ABX9TyPZyfQ4KLvMzxzzH5amRpn/",
      "include_colab_link": true
    },
    "kernelspec": {
      "name": "python3",
      "display_name": "Python 3"
    }
  },
  "cells": [
    {
      "cell_type": "markdown",
      "metadata": {
        "id": "view-in-github",
        "colab_type": "text"
      },
      "source": [
        "<a href=\"https://colab.research.google.com/github/dnyanshwalwadkar/Advanced-Library-Managment/blob/master/nlpExercise2.ipynb\" target=\"_parent\"><img src=\"https://colab.research.google.com/assets/colab-badge.svg\" alt=\"Open In Colab\"/></a>"
      ]
    },
    {
      "cell_type": "code",
      "metadata": {
        "id": "i9thekAONWx6",
        "colab_type": "code",
        "colab": {}
      },
      "source": [
        "import spacy\n",
        "nlp=spacy.load('en_core_web_sm')\n",
        "txt2 = nlp(u\"knowledge shelf isn't my you tube channel.\")"
      ],
      "execution_count": 0,
      "outputs": []
    },
    {
      "cell_type": "code",
      "metadata": {
        "id": "4cRx_dSDNwjI",
        "colab_type": "code",
        "colab": {
          "base_uri": "https://localhost:8080/",
          "height": 168
        },
        "outputId": "e530f5d2-4a09-4dc6-baf9-97118703769c"
      },
      "source": [
        "for token in txt2:\n",
        "  print( token.text,token.pos_,token.dep_)"
      ],
      "execution_count": 2,
      "outputs": [
        {
          "output_type": "stream",
          "text": [
            "knowledge NOUN compound\n",
            "shelf NOUN nsubj\n",
            "is AUX ROOT\n",
            "n't PART neg\n",
            "my DET poss\n",
            "you PRON nsubj\n",
            "tube NOUN compound\n",
            "channel NOUN attr\n",
            ". PUNCT punct\n"
          ],
          "name": "stdout"
        }
      ]
    },
    {
      "cell_type": "code",
      "metadata": {
        "id": "6t4Qs7dyN-p3",
        "colab_type": "code",
        "colab": {
          "base_uri": "https://localhost:8080/",
          "height": 34
        },
        "outputId": "cea631b8-c199-4e13-dd10-8695bd0d3eb6"
      },
      "source": [
        "txt2[0].pos_"
      ],
      "execution_count": 3,
      "outputs": [
        {
          "output_type": "execute_result",
          "data": {
            "text/plain": [
              "'NOUN'"
            ]
          },
          "metadata": {
            "tags": []
          },
          "execution_count": 3
        }
      ]
    },
    {
      "cell_type": "code",
      "metadata": {
        "id": "Y3sG6TXZOFw2",
        "colab_type": "code",
        "colab": {}
      },
      "source": [
        "txt3 = nlp(u\"Although commonly attributed to John Lennon from his song 'Beautiful Boy',the phrse 'life is what happens to us while we are making othre planes' was written by cartonis Allen Sauders and published in reader Digest in 1957 , when Lennon was 17.\")"
      ],
      "execution_count": 0,
      "outputs": []
    },
    {
      "cell_type": "code",
      "metadata": {
        "id": "-VIZ7yznPAaT",
        "colab_type": "code",
        "colab": {}
      },
      "source": [
        "qoute =txt3[13:27]"
      ],
      "execution_count": 0,
      "outputs": []
    },
    {
      "cell_type": "code",
      "metadata": {
        "id": "o8XTpls9PHyA",
        "colab_type": "code",
        "colab": {
          "base_uri": "https://localhost:8080/",
          "height": 34
        },
        "outputId": "6682bd37-a4a5-49ec-f34d-36347d06877f"
      },
      "source": [
        "print(qoute)"
      ],
      "execution_count": 14,
      "outputs": [
        {
          "output_type": "stream",
          "text": [
            "'life is what happens to us while we are making othre planes'\n"
          ],
          "name": "stdout"
        }
      ]
    },
    {
      "cell_type": "code",
      "metadata": {
        "id": "E3_Ayjh2PJea",
        "colab_type": "code",
        "colab": {
          "base_uri": "https://localhost:8080/",
          "height": 34
        },
        "outputId": "d7fed194-616a-4c95-b1f5-2ce7d890a327"
      },
      "source": [
        "type(qoute)"
      ],
      "execution_count": 15,
      "outputs": [
        {
          "output_type": "execute_result",
          "data": {
            "text/plain": [
              "spacy.tokens.span.Span"
            ]
          },
          "metadata": {
            "tags": []
          },
          "execution_count": 15
        }
      ]
    },
    {
      "cell_type": "code",
      "metadata": {
        "id": "tPnTD4msPhZ3",
        "colab_type": "code",
        "colab": {
          "base_uri": "https://localhost:8080/",
          "height": 34
        },
        "outputId": "e44f6b82-4d81-4285-b2ad-e927c87b127f"
      },
      "source": [
        "type(txt3)"
      ],
      "execution_count": 16,
      "outputs": [
        {
          "output_type": "execute_result",
          "data": {
            "text/plain": [
              "spacy.tokens.doc.Doc"
            ]
          },
          "metadata": {
            "tags": []
          },
          "execution_count": 16
        }
      ]
    },
    {
      "cell_type": "code",
      "metadata": {
        "id": "2I1FYmRfPkX0",
        "colab_type": "code",
        "colab": {}
      },
      "source": [
        "txt4 = nlp(u\"this is first line. tjis is second line. this is third line. this is last line.\")"
      ],
      "execution_count": 0,
      "outputs": []
    },
    {
      "cell_type": "code",
      "metadata": {
        "id": "iGk7zV15Px0o",
        "colab_type": "code",
        "colab": {
          "base_uri": "https://localhost:8080/",
          "height": 84
        },
        "outputId": "74dcd23e-1398-4508-fd8e-b7a3b55e9a6f"
      },
      "source": [
        "for sentence in txt4.sents:\n",
        "  print(sentence)"
      ],
      "execution_count": 18,
      "outputs": [
        {
          "output_type": "stream",
          "text": [
            "this is first line.\n",
            "tjis is second line.\n",
            "this is third line.\n",
            "this is last line.\n"
          ],
          "name": "stdout"
        }
      ]
    },
    {
      "cell_type": "code",
      "metadata": {
        "id": "kU171y47P6zT",
        "colab_type": "code",
        "colab": {
          "base_uri": "https://localhost:8080/",
          "height": 34
        },
        "outputId": "c5dc423a-a7b1-4bbe-b893-2925f023884f"
      },
      "source": [
        "txt4[5].is_sent_start"
      ],
      "execution_count": 24,
      "outputs": [
        {
          "output_type": "execute_result",
          "data": {
            "text/plain": [
              "True"
            ]
          },
          "metadata": {
            "tags": []
          },
          "execution_count": 24
        }
      ]
    },
    {
      "cell_type": "markdown",
      "metadata": {
        "id": "S0Ag8dGLQ_Uq",
        "colab_type": "text"
      },
      "source": [
        "Tokenization"
      ]
    },
    {
      "cell_type": "code",
      "metadata": {
        "id": "x8BotM1gRBJp",
        "colab_type": "code",
        "colab": {
          "base_uri": "https://localhost:8080/",
          "height": 54
        },
        "outputId": "8f28ef44-371b-4578-9487-8f6e3e125b6d"
      },
      "source": [
        "txt5 = '\"We\\'re moving to A.P.!\"'"
      ],
      "execution_count": 25,
      "outputs": [
        {
          "output_type": "stream",
          "text": [
            "ERROR! Session/line number was not unique in database. History logging moved to new session 60\n"
          ],
          "name": "stdout"
        }
      ]
    },
    {
      "cell_type": "code",
      "metadata": {
        "id": "KcFpxw8BRN7q",
        "colab_type": "code",
        "colab": {
          "base_uri": "https://localhost:8080/",
          "height": 34
        },
        "outputId": "3ff89c61-39b9-4caf-c79c-754fc3490d62"
      },
      "source": [
        "print(txt5)"
      ],
      "execution_count": 26,
      "outputs": [
        {
          "output_type": "stream",
          "text": [
            "\"We're moving to A.P.!\"\n"
          ],
          "name": "stdout"
        }
      ]
    },
    {
      "cell_type": "code",
      "metadata": {
        "id": "MqNIxd9HRVKQ",
        "colab_type": "code",
        "colab": {}
      },
      "source": [
        "doc = nlp(txt5)"
      ],
      "execution_count": 0,
      "outputs": []
    },
    {
      "cell_type": "code",
      "metadata": {
        "id": "uUWZLiXIRa6_",
        "colab_type": "code",
        "colab": {
          "base_uri": "https://localhost:8080/",
          "height": 151
        },
        "outputId": "cabc44db-62de-4299-fbaa-2f944f5ef585"
      },
      "source": [
        "for token in doc:\n",
        "  print(token.text , token.pos_)\n"
      ],
      "execution_count": 30,
      "outputs": [
        {
          "output_type": "stream",
          "text": [
            "\" PUNCT\n",
            "We PRON\n",
            "'re AUX\n",
            "moving VERB\n",
            "to ADP\n",
            "A.P. PROPN\n",
            "! PUNCT\n",
            "\" PUNCT\n"
          ],
          "name": "stdout"
        }
      ]
    },
    {
      "cell_type": "code",
      "metadata": {
        "id": "YySwA4_aRhUO",
        "colab_type": "code",
        "colab": {}
      },
      "source": [
        "txt6 = \"We\\'re here to help! send snail-mail, email knowledshelp.com or visit us at https://www.knowledgeshelpit.com!\"\n",
        "doc2 = nlp(txt6)"
      ],
      "execution_count": 0,
      "outputs": []
    },
    {
      "cell_type": "code",
      "metadata": {
        "id": "zzDFWA2xSEvE",
        "colab_type": "code",
        "colab": {
          "base_uri": "https://localhost:8080/",
          "height": 336
        },
        "outputId": "b2222cde-c627-44ba-907e-c8c4d7e60b1f"
      },
      "source": [
        "for token in doc2:\n",
        "  print(token.text)"
      ],
      "execution_count": 34,
      "outputs": [
        {
          "output_type": "stream",
          "text": [
            "We\n",
            "'re\n",
            "here\n",
            "to\n",
            "help\n",
            "!\n",
            "send\n",
            "snail\n",
            "-\n",
            "mail\n",
            ",\n",
            "email\n",
            "knowledshelp.com\n",
            "or\n",
            "visit\n",
            "us\n",
            "at\n",
            "https://www.knowledgeshelpit.com\n",
            "!\n"
          ],
          "name": "stdout"
        }
      ]
    },
    {
      "cell_type": "code",
      "metadata": {
        "id": "DQxw-KwRSKkk",
        "colab_type": "code",
        "colab": {}
      },
      "source": [
        "doc3 = nlp(\"A 5km Mumbai cab ride costs is $100\")"
      ],
      "execution_count": 0,
      "outputs": []
    },
    {
      "cell_type": "code",
      "metadata": {
        "id": "sJOIew8RSqSK",
        "colab_type": "code",
        "colab": {}
      },
      "source": [
        "doc4 = nlp(\"let's visit st. Louis in the U.S. next year.\")"
      ],
      "execution_count": 0,
      "outputs": []
    },
    {
      "cell_type": "code",
      "metadata": {
        "id": "yKcV_zTyS0rc",
        "colab_type": "code",
        "colab": {
          "base_uri": "https://localhost:8080/",
          "height": 185
        },
        "outputId": "e527c88d-5e98-4daa-a334-983699d2df17"
      },
      "source": [
        "for t in doc3:\n",
        "  print(t.text)"
      ],
      "execution_count": 43,
      "outputs": [
        {
          "output_type": "stream",
          "text": [
            "A\n",
            "5\n",
            "km\n",
            "Mumbai\n",
            "cab\n",
            "ride\n",
            "costs\n",
            "is\n",
            "$\n",
            "100\n"
          ],
          "name": "stdout"
        }
      ]
    },
    {
      "cell_type": "code",
      "metadata": {
        "id": "BnBcwDnSTAgD",
        "colab_type": "code",
        "colab": {
          "base_uri": "https://localhost:8080/",
          "height": 218
        },
        "outputId": "df310dbc-5711-4506-e6e8-aee6530ec13f"
      },
      "source": [
        "for t in doc4:\n",
        "  print(t.text)"
      ],
      "execution_count": 44,
      "outputs": [
        {
          "output_type": "stream",
          "text": [
            "let\n",
            "'s\n",
            "visit\n",
            "st\n",
            ".\n",
            "Louis\n",
            "in\n",
            "the\n",
            "U.S.\n",
            "next\n",
            "year\n",
            ".\n"
          ],
          "name": "stdout"
        }
      ]
    },
    {
      "cell_type": "code",
      "metadata": {
        "id": "oQdtKyj7TDv4",
        "colab_type": "code",
        "colab": {
          "base_uri": "https://localhost:8080/",
          "height": 168
        },
        "outputId": "ab3c1baa-12aa-4446-bf07-3dfca57716a3"
      },
      "source": [
        "doc5 =nlp(\"Google to build a Gujrat factory for $60 million.\")\n",
        "for entity in doc5.ents:\n",
        "  print(entity)\n",
        "  print(str(spacy.explain(entity.label_)))\n",
        "  print(entity.label_)"
      ],
      "execution_count": 49,
      "outputs": [
        {
          "output_type": "stream",
          "text": [
            "Google\n",
            "Companies, agencies, institutions, etc.\n",
            "ORG\n",
            "Gujrat\n",
            "Countries, cities, states\n",
            "GPE\n",
            "$60 million\n",
            "Monetary values, including unit\n",
            "MONEY\n"
          ],
          "name": "stdout"
        }
      ]
    },
    {
      "cell_type": "code",
      "metadata": {
        "id": "oVmOspF0Uu5t",
        "colab_type": "code",
        "colab": {}
      },
      "source": [
        "doc6 = nlp(u\"Autonomous cars shit insurance liability towards manufactures. \")"
      ],
      "execution_count": 0,
      "outputs": []
    },
    {
      "cell_type": "code",
      "metadata": {
        "id": "AyPzGKBGVjdU",
        "colab_type": "code",
        "colab": {
          "base_uri": "https://localhost:8080/",
          "height": 67
        },
        "outputId": "5eb69219-0e2b-4045-8b9c-ffb597fefab2"
      },
      "source": [
        "for chunks in doc6.noun_chunks:\n",
        "  print(chunks)"
      ],
      "execution_count": 51,
      "outputs": [
        {
          "output_type": "stream",
          "text": [
            "Autonomous cars\n",
            "insurance liability\n",
            "manufactures\n"
          ],
          "name": "stdout"
        }
      ]
    },
    {
      "cell_type": "code",
      "metadata": {
        "id": "yliB3wd2Vohg",
        "colab_type": "code",
        "colab": {}
      },
      "source": [
        "doc5 =nlp(\"Google to build a Gujrat factory for $60 million.\")"
      ],
      "execution_count": 0,
      "outputs": []
    },
    {
      "cell_type": "code",
      "metadata": {
        "id": "Mh7u6nScV2AE",
        "colab_type": "code",
        "colab": {
          "base_uri": "https://localhost:8080/",
          "height": 298
        },
        "outputId": "84bc221b-31e7-48fc-8d31-8802bdc9a158"
      },
      "source": [
        "from spacy import displacy\n",
        "displacy.render(doc5 , style=\"dep\" , jupyter= True,options = {\"distance\":60})"
      ],
      "execution_count": 59,
      "outputs": [
        {
          "output_type": "display_data",
          "data": {
            "text/html": [
              "<span class=\"tex2jax_ignore\"><svg xmlns=\"http://www.w3.org/2000/svg\" xmlns:xlink=\"http://www.w3.org/1999/xlink\" xml:lang=\"en\" id=\"d19406418d484b93a76bb506ebf1061a-0\" class=\"displacy\" width=\"650\" height=\"257.0\" direction=\"ltr\" style=\"max-width: none; height: 257.0px; color: #000000; background: #ffffff; font-family: Arial; direction: ltr\">\n",
              "<text class=\"displacy-token\" fill=\"currentColor\" text-anchor=\"middle\" y=\"167.0\">\n",
              "    <tspan class=\"displacy-word\" fill=\"currentColor\" x=\"50\">Google</tspan>\n",
              "    <tspan class=\"displacy-tag\" dy=\"2em\" fill=\"currentColor\" x=\"50\">PROPN</tspan>\n",
              "</text>\n",
              "\n",
              "<text class=\"displacy-token\" fill=\"currentColor\" text-anchor=\"middle\" y=\"167.0\">\n",
              "    <tspan class=\"displacy-word\" fill=\"currentColor\" x=\"110\">to</tspan>\n",
              "    <tspan class=\"displacy-tag\" dy=\"2em\" fill=\"currentColor\" x=\"110\">PART</tspan>\n",
              "</text>\n",
              "\n",
              "<text class=\"displacy-token\" fill=\"currentColor\" text-anchor=\"middle\" y=\"167.0\">\n",
              "    <tspan class=\"displacy-word\" fill=\"currentColor\" x=\"170\">build</tspan>\n",
              "    <tspan class=\"displacy-tag\" dy=\"2em\" fill=\"currentColor\" x=\"170\">VERB</tspan>\n",
              "</text>\n",
              "\n",
              "<text class=\"displacy-token\" fill=\"currentColor\" text-anchor=\"middle\" y=\"167.0\">\n",
              "    <tspan class=\"displacy-word\" fill=\"currentColor\" x=\"230\">a</tspan>\n",
              "    <tspan class=\"displacy-tag\" dy=\"2em\" fill=\"currentColor\" x=\"230\">DET</tspan>\n",
              "</text>\n",
              "\n",
              "<text class=\"displacy-token\" fill=\"currentColor\" text-anchor=\"middle\" y=\"167.0\">\n",
              "    <tspan class=\"displacy-word\" fill=\"currentColor\" x=\"290\">Gujrat</tspan>\n",
              "    <tspan class=\"displacy-tag\" dy=\"2em\" fill=\"currentColor\" x=\"290\">PROPN</tspan>\n",
              "</text>\n",
              "\n",
              "<text class=\"displacy-token\" fill=\"currentColor\" text-anchor=\"middle\" y=\"167.0\">\n",
              "    <tspan class=\"displacy-word\" fill=\"currentColor\" x=\"350\">factory</tspan>\n",
              "    <tspan class=\"displacy-tag\" dy=\"2em\" fill=\"currentColor\" x=\"350\">NOUN</tspan>\n",
              "</text>\n",
              "\n",
              "<text class=\"displacy-token\" fill=\"currentColor\" text-anchor=\"middle\" y=\"167.0\">\n",
              "    <tspan class=\"displacy-word\" fill=\"currentColor\" x=\"410\">for</tspan>\n",
              "    <tspan class=\"displacy-tag\" dy=\"2em\" fill=\"currentColor\" x=\"410\">ADP</tspan>\n",
              "</text>\n",
              "\n",
              "<text class=\"displacy-token\" fill=\"currentColor\" text-anchor=\"middle\" y=\"167.0\">\n",
              "    <tspan class=\"displacy-word\" fill=\"currentColor\" x=\"470\">$</tspan>\n",
              "    <tspan class=\"displacy-tag\" dy=\"2em\" fill=\"currentColor\" x=\"470\">SYM</tspan>\n",
              "</text>\n",
              "\n",
              "<text class=\"displacy-token\" fill=\"currentColor\" text-anchor=\"middle\" y=\"167.0\">\n",
              "    <tspan class=\"displacy-word\" fill=\"currentColor\" x=\"530\">60</tspan>\n",
              "    <tspan class=\"displacy-tag\" dy=\"2em\" fill=\"currentColor\" x=\"530\">NUM</tspan>\n",
              "</text>\n",
              "\n",
              "<text class=\"displacy-token\" fill=\"currentColor\" text-anchor=\"middle\" y=\"167.0\">\n",
              "    <tspan class=\"displacy-word\" fill=\"currentColor\" x=\"590\">million.</tspan>\n",
              "    <tspan class=\"displacy-tag\" dy=\"2em\" fill=\"currentColor\" x=\"590\">NUM</tspan>\n",
              "</text>\n",
              "\n",
              "<g class=\"displacy-arrow\">\n",
              "    <path class=\"displacy-arc\" id=\"arrow-d19406418d484b93a76bb506ebf1061a-0-0\" stroke-width=\"2px\" d=\"M130,122.0 C130,92.0 155.0,92.0 155.0,122.0\" fill=\"none\" stroke=\"currentColor\"/>\n",
              "    <text dy=\"1.25em\" style=\"font-size: 0.8em; letter-spacing: 1px\">\n",
              "        <textPath xlink:href=\"#arrow-d19406418d484b93a76bb506ebf1061a-0-0\" class=\"displacy-label\" startOffset=\"50%\" side=\"left\" fill=\"currentColor\" text-anchor=\"middle\">aux</textPath>\n",
              "    </text>\n",
              "    <path class=\"displacy-arrowhead\" d=\"M130,124.0 L122,112.0 138,112.0\" fill=\"currentColor\"/>\n",
              "</g>\n",
              "\n",
              "<g class=\"displacy-arrow\">\n",
              "    <path class=\"displacy-arc\" id=\"arrow-d19406418d484b93a76bb506ebf1061a-0-1\" stroke-width=\"2px\" d=\"M70,122.0 C70,62.0 160.0,62.0 160.0,122.0\" fill=\"none\" stroke=\"currentColor\"/>\n",
              "    <text dy=\"1.25em\" style=\"font-size: 0.8em; letter-spacing: 1px\">\n",
              "        <textPath xlink:href=\"#arrow-d19406418d484b93a76bb506ebf1061a-0-1\" class=\"displacy-label\" startOffset=\"50%\" side=\"left\" fill=\"currentColor\" text-anchor=\"middle\">acl</textPath>\n",
              "    </text>\n",
              "    <path class=\"displacy-arrowhead\" d=\"M160.0,124.0 L168.0,112.0 152.0,112.0\" fill=\"currentColor\"/>\n",
              "</g>\n",
              "\n",
              "<g class=\"displacy-arrow\">\n",
              "    <path class=\"displacy-arc\" id=\"arrow-d19406418d484b93a76bb506ebf1061a-0-2\" stroke-width=\"2px\" d=\"M250,122.0 C250,62.0 340.0,62.0 340.0,122.0\" fill=\"none\" stroke=\"currentColor\"/>\n",
              "    <text dy=\"1.25em\" style=\"font-size: 0.8em; letter-spacing: 1px\">\n",
              "        <textPath xlink:href=\"#arrow-d19406418d484b93a76bb506ebf1061a-0-2\" class=\"displacy-label\" startOffset=\"50%\" side=\"left\" fill=\"currentColor\" text-anchor=\"middle\">det</textPath>\n",
              "    </text>\n",
              "    <path class=\"displacy-arrowhead\" d=\"M250,124.0 L242,112.0 258,112.0\" fill=\"currentColor\"/>\n",
              "</g>\n",
              "\n",
              "<g class=\"displacy-arrow\">\n",
              "    <path class=\"displacy-arc\" id=\"arrow-d19406418d484b93a76bb506ebf1061a-0-3\" stroke-width=\"2px\" d=\"M310,122.0 C310,92.0 335.0,92.0 335.0,122.0\" fill=\"none\" stroke=\"currentColor\"/>\n",
              "    <text dy=\"1.25em\" style=\"font-size: 0.8em; letter-spacing: 1px\">\n",
              "        <textPath xlink:href=\"#arrow-d19406418d484b93a76bb506ebf1061a-0-3\" class=\"displacy-label\" startOffset=\"50%\" side=\"left\" fill=\"currentColor\" text-anchor=\"middle\">compound</textPath>\n",
              "    </text>\n",
              "    <path class=\"displacy-arrowhead\" d=\"M310,124.0 L302,112.0 318,112.0\" fill=\"currentColor\"/>\n",
              "</g>\n",
              "\n",
              "<g class=\"displacy-arrow\">\n",
              "    <path class=\"displacy-arc\" id=\"arrow-d19406418d484b93a76bb506ebf1061a-0-4\" stroke-width=\"2px\" d=\"M190,122.0 C190,32.0 345.0,32.0 345.0,122.0\" fill=\"none\" stroke=\"currentColor\"/>\n",
              "    <text dy=\"1.25em\" style=\"font-size: 0.8em; letter-spacing: 1px\">\n",
              "        <textPath xlink:href=\"#arrow-d19406418d484b93a76bb506ebf1061a-0-4\" class=\"displacy-label\" startOffset=\"50%\" side=\"left\" fill=\"currentColor\" text-anchor=\"middle\">dobj</textPath>\n",
              "    </text>\n",
              "    <path class=\"displacy-arrowhead\" d=\"M345.0,124.0 L353.0,112.0 337.0,112.0\" fill=\"currentColor\"/>\n",
              "</g>\n",
              "\n",
              "<g class=\"displacy-arrow\">\n",
              "    <path class=\"displacy-arc\" id=\"arrow-d19406418d484b93a76bb506ebf1061a-0-5\" stroke-width=\"2px\" d=\"M190,122.0 C190,2.0 410.0,2.0 410.0,122.0\" fill=\"none\" stroke=\"currentColor\"/>\n",
              "    <text dy=\"1.25em\" style=\"font-size: 0.8em; letter-spacing: 1px\">\n",
              "        <textPath xlink:href=\"#arrow-d19406418d484b93a76bb506ebf1061a-0-5\" class=\"displacy-label\" startOffset=\"50%\" side=\"left\" fill=\"currentColor\" text-anchor=\"middle\">prep</textPath>\n",
              "    </text>\n",
              "    <path class=\"displacy-arrowhead\" d=\"M410.0,124.0 L418.0,112.0 402.0,112.0\" fill=\"currentColor\"/>\n",
              "</g>\n",
              "\n",
              "<g class=\"displacy-arrow\">\n",
              "    <path class=\"displacy-arc\" id=\"arrow-d19406418d484b93a76bb506ebf1061a-0-6\" stroke-width=\"2px\" d=\"M490,122.0 C490,62.0 580.0,62.0 580.0,122.0\" fill=\"none\" stroke=\"currentColor\"/>\n",
              "    <text dy=\"1.25em\" style=\"font-size: 0.8em; letter-spacing: 1px\">\n",
              "        <textPath xlink:href=\"#arrow-d19406418d484b93a76bb506ebf1061a-0-6\" class=\"displacy-label\" startOffset=\"50%\" side=\"left\" fill=\"currentColor\" text-anchor=\"middle\">quantmod</textPath>\n",
              "    </text>\n",
              "    <path class=\"displacy-arrowhead\" d=\"M490,124.0 L482,112.0 498,112.0\" fill=\"currentColor\"/>\n",
              "</g>\n",
              "\n",
              "<g class=\"displacy-arrow\">\n",
              "    <path class=\"displacy-arc\" id=\"arrow-d19406418d484b93a76bb506ebf1061a-0-7\" stroke-width=\"2px\" d=\"M550,122.0 C550,92.0 575.0,92.0 575.0,122.0\" fill=\"none\" stroke=\"currentColor\"/>\n",
              "    <text dy=\"1.25em\" style=\"font-size: 0.8em; letter-spacing: 1px\">\n",
              "        <textPath xlink:href=\"#arrow-d19406418d484b93a76bb506ebf1061a-0-7\" class=\"displacy-label\" startOffset=\"50%\" side=\"left\" fill=\"currentColor\" text-anchor=\"middle\">compound</textPath>\n",
              "    </text>\n",
              "    <path class=\"displacy-arrowhead\" d=\"M550,124.0 L542,112.0 558,112.0\" fill=\"currentColor\"/>\n",
              "</g>\n",
              "\n",
              "<g class=\"displacy-arrow\">\n",
              "    <path class=\"displacy-arc\" id=\"arrow-d19406418d484b93a76bb506ebf1061a-0-8\" stroke-width=\"2px\" d=\"M430,122.0 C430,32.0 585.0,32.0 585.0,122.0\" fill=\"none\" stroke=\"currentColor\"/>\n",
              "    <text dy=\"1.25em\" style=\"font-size: 0.8em; letter-spacing: 1px\">\n",
              "        <textPath xlink:href=\"#arrow-d19406418d484b93a76bb506ebf1061a-0-8\" class=\"displacy-label\" startOffset=\"50%\" side=\"left\" fill=\"currentColor\" text-anchor=\"middle\">pobj</textPath>\n",
              "    </text>\n",
              "    <path class=\"displacy-arrowhead\" d=\"M585.0,124.0 L593.0,112.0 577.0,112.0\" fill=\"currentColor\"/>\n",
              "</g>\n",
              "</svg></span>"
            ],
            "text/plain": [
              "<IPython.core.display.HTML object>"
            ]
          },
          "metadata": {
            "tags": []
          }
        }
      ]
    },
    {
      "cell_type": "code",
      "metadata": {
        "id": "3EX4gF4FWHwB",
        "colab_type": "code",
        "colab": {
          "base_uri": "https://localhost:8080/",
          "height": 51
        },
        "outputId": "91bff5af-0a73-43b9-f253-85952e60c6f9"
      },
      "source": [
        "displacy.render(doc5 , style=\"ent\" , jupyter= True,options = {\"distance\":60})"
      ],
      "execution_count": 60,
      "outputs": [
        {
          "output_type": "display_data",
          "data": {
            "text/html": [
              "<span class=\"tex2jax_ignore\"><div class=\"entities\" style=\"line-height: 2.5; direction: ltr\">\n",
              "<mark class=\"entity\" style=\"background: #7aecec; padding: 0.45em 0.6em; margin: 0 0.25em; line-height: 1; border-radius: 0.35em;\">\n",
              "    Google\n",
              "    <span style=\"font-size: 0.8em; font-weight: bold; line-height: 1; border-radius: 0.35em; text-transform: uppercase; vertical-align: middle; margin-left: 0.5rem\">ORG</span>\n",
              "</mark>\n",
              " to build a \n",
              "<mark class=\"entity\" style=\"background: #feca74; padding: 0.45em 0.6em; margin: 0 0.25em; line-height: 1; border-radius: 0.35em;\">\n",
              "    Gujrat\n",
              "    <span style=\"font-size: 0.8em; font-weight: bold; line-height: 1; border-radius: 0.35em; text-transform: uppercase; vertical-align: middle; margin-left: 0.5rem\">GPE</span>\n",
              "</mark>\n",
              " factory for \n",
              "<mark class=\"entity\" style=\"background: #e4e7d2; padding: 0.45em 0.6em; margin: 0 0.25em; line-height: 1; border-radius: 0.35em;\">\n",
              "    $60 million\n",
              "    <span style=\"font-size: 0.8em; font-weight: bold; line-height: 1; border-radius: 0.35em; text-transform: uppercase; vertical-align: middle; margin-left: 0.5rem\">MONEY</span>\n",
              "</mark>\n",
              ".</div></span>"
            ],
            "text/plain": [
              "<IPython.core.display.HTML object>"
            ]
          },
          "metadata": {
            "tags": []
          }
        }
      ]
    },
    {
      "cell_type": "markdown",
      "metadata": {
        "id": "BQwd9hX2XHJO",
        "colab_type": "text"
      },
      "source": [
        "STENNING \n",
        "\n",
        "running - > run\n",
        "Gamming -> game"
      ]
    },
    {
      "cell_type": "code",
      "metadata": {
        "id": "hU35KpbuWyg9",
        "colab_type": "code",
        "colab": {}
      },
      "source": [
        "import nltk"
      ],
      "execution_count": 0,
      "outputs": []
    },
    {
      "cell_type": "code",
      "metadata": {
        "id": "VLideV0jXSmz",
        "colab_type": "code",
        "colab": {}
      },
      "source": [
        "from nltk.stem.porter import PorterStemmer\n"
      ],
      "execution_count": 0,
      "outputs": []
    },
    {
      "cell_type": "code",
      "metadata": {
        "id": "7aFgocDMXaFE",
        "colab_type": "code",
        "colab": {}
      },
      "source": [
        "p_stemmer = PorterStemmer()"
      ],
      "execution_count": 0,
      "outputs": []
    },
    {
      "cell_type": "code",
      "metadata": {
        "id": "I0XhhoA_XfLL",
        "colab_type": "code",
        "colab": {}
      },
      "source": [
        "words = [ \" run\",\"runner\",\"run\",\"runs\",\"easily\",\"fairly\"]\n"
      ],
      "execution_count": 0,
      "outputs": []
    },
    {
      "cell_type": "code",
      "metadata": {
        "id": "HWTiyCSfXnfy",
        "colab_type": "code",
        "colab": {
          "base_uri": "https://localhost:8080/",
          "height": 118
        },
        "outputId": "ea02732b-b947-4293-9cfc-dc9e76e0f84d"
      },
      "source": [
        "for word in words:\n",
        "  print(word+\" --- >\"+p_stemmer.stem(word))"
      ],
      "execution_count": 65,
      "outputs": [
        {
          "output_type": "stream",
          "text": [
            " run --- > run\n",
            "runner --- >runner\n",
            "run --- >run\n",
            "runs --- >run\n",
            "easily --- >easili\n",
            "fairly --- >fairli\n"
          ],
          "name": "stdout"
        }
      ]
    },
    {
      "cell_type": "code",
      "metadata": {
        "id": "VBr20O07XwqC",
        "colab_type": "code",
        "colab": {}
      },
      "source": [
        "from nltk.stem.snowball import SnowballStemmer"
      ],
      "execution_count": 0,
      "outputs": []
    },
    {
      "cell_type": "code",
      "metadata": {
        "id": "qph_IPmfYDlk",
        "colab_type": "code",
        "colab": {}
      },
      "source": [
        "s_stemmer = SnowballStemmer(language=\"english\")"
      ],
      "execution_count": 0,
      "outputs": []
    },
    {
      "cell_type": "code",
      "metadata": {
        "id": "lNYoHy6bYLbt",
        "colab_type": "code",
        "colab": {
          "base_uri": "https://localhost:8080/",
          "height": 118
        },
        "outputId": "bc94e0c9-535b-4e16-8aef-f8c7a376ff67"
      },
      "source": [
        "for word in words:\n",
        "  print(word+\"--->\"+s_stemmer.stem(word))"
      ],
      "execution_count": 69,
      "outputs": [
        {
          "output_type": "stream",
          "text": [
            " run---> run\n",
            "runner--->runner\n",
            "run--->run\n",
            "runs--->run\n",
            "easily--->easili\n",
            "fairly--->fair\n"
          ],
          "name": "stdout"
        }
      ]
    },
    {
      "cell_type": "markdown",
      "metadata": {
        "id": "cuXTCiYOYgLJ",
        "colab_type": "text"
      },
      "source": [
        "Lemmatiation Technique"
      ]
    },
    {
      "cell_type": "code",
      "metadata": {
        "id": "TaPLgGBWYin6",
        "colab_type": "code",
        "colab": {
          "base_uri": "https://localhost:8080/",
          "height": 134
        },
        "outputId": "4a6eeaf3-e58d-423f-b8e6-f0f8f78e7d70"
      },
      "source": [
        "token.lemma_\n",
        "tt= nlp(\"i saw your home you did that\")\n",
        "for token in tt:\n",
        "  print(f\"{token.text:{12}} {token.lemma_}\")"
      ],
      "execution_count": 71,
      "outputs": [
        {
          "output_type": "stream",
          "text": [
            "i            i\n",
            "saw          see\n",
            "your         -PRON-\n",
            "home         home\n",
            "you          -PRON-\n",
            "did          do\n",
            "that         that\n"
          ],
          "name": "stdout"
        }
      ]
    },
    {
      "cell_type": "markdown",
      "metadata": {
        "id": "5gM7O-IWapys",
        "colab_type": "text"
      },
      "source": [
        "STOP WORDS"
      ]
    },
    {
      "cell_type": "code",
      "metadata": {
        "id": "MktI4bb6Z_NJ",
        "colab_type": "code",
        "colab": {
          "base_uri": "https://localhost:8080/",
          "height": 54
        },
        "outputId": "e5c2f100-9753-40ee-b8ae-1be45ec57fd6"
      },
      "source": [
        "print(nlp.Defaults.stop_words)"
      ],
      "execution_count": 72,
      "outputs": [
        {
          "output_type": "stream",
          "text": [
            "{'ca', 'during', 'noone', 'meanwhile', 'under', 'thus', 'can', 'whether', 'becoming', 'same', 'up', 'with', 'throughout', 'top', '‘d', '’ll', '‘re', 'bottom', 'have', 'too', 'beyond', 'only', 'your', 'should', 'these', 'everyone', 'last', 'nowhere', 'others', 'from', \"'s\", 'must', 'i', 'still', 'which', 'might', 'much', 'those', 'whoever', 'about', 'has', 'by', 'mostly', 'of', 'than', 'my', 'nor', 'several', '‘m', 'off', 'she', 'seeming', 'elsewhere', 'eight', 'any', 'amongst', 'seems', 'once', 'him', 'mine', 'for', 'front', 'in', 'why', 'used', 'before', 'whereupon', 'his', 'move', 'upon', 'sometimes', 'as', 'someone', 'he', 'that', 'something', 'also', 'neither', 'part', 'few', \"n't\", 'become', 'below', 'so', 'the', '’m', 'one', \"'ve\", 'often', 'although', 'through', 'namely', 'except', 'more', 'them', 'latter', 'did', 'some', 'whatever', 'whenever', 'where', 'ours', 'whereas', 'whither', 'would', 'had', 'again', 'moreover', 'who', 'therein', 'due', 'their', 'be', 'besides', 'show', 'myself', 'via', 'around', 'doing', 'or', 'our', 'you', 'another', 'itself', '’d', '‘ll', 'an', 'beside', 'since', 'fifteen', \"'d\", 'me', 'serious', 'already', 'almost', 'using', 'various', 'because', 'it', 'go', 'until', 'either', 'we', 'hundred', 'along', 'please', 'such', 'indeed', 'against', 'us', 'always', 'was', 'ten', 'thereupon', 'take', 'down', 'sometime', 'will', 'unless', 'every', 'further', 'wherever', '’re', 'thereby', 'being', 'ever', 'somewhere', 'very', '’ve', 'nobody', 'put', 'thru', 'whom', 'n’t', 'less', 'on', 'whereafter', 'thence', 'out', 'above', 'third', 'whole', 'next', '’s', 'five', 'enough', 'both', 'been', 'hers', 'least', 'otherwise', 'twelve', 'here', 'well', 'yourself', 'yours', 'give', 'rather', 'themselves', \"'ll\", 'if', 'this', 'does', 'among', 'hence', 'they', 'therefore', 'whereby', 'n‘t', 'together', 'herein', 'anywhere', 'first', 'anyone', 'could', 'none', 'own', 'cannot', 'between', 'other', 'quite', 'towards', 'while', 'across', '‘s', '‘ve', 'how', 'no', 'its', 'amount', 'keep', 'make', 'get', 'thereafter', 'anyway', 'alone', 'really', 'everything', 'hereupon', 'just', 'most', 'behind', 'four', 'made', 'per', 'at', 'is', 'and', 'former', 'nine', 'many', 'then', 'what', 'back', 'her', 'hereby', 'two', 'without', 'twenty', 'yourselves', 'regarding', 'else', 'but', 'though', 'nevertheless', 'name', 'full', 'anything', 'hereafter', 'latterly', 'within', 'all', 'not', 'sixty', 'whose', 'everywhere', 'side', 'now', 'anyhow', 'call', 'whence', 'fifty', 'himself', \"'m\", 'onto', 'am', 'seemed', 'were', 'over', 'three', 'may', 'when', 'beforehand', 'empty', 'each', 'a', 'forty', 'do', 'perhaps', 'say', 'even', 'never', 'there', 'after', 'becomes', 'became', 'afterwards', 'wherein', 'ourselves', 'see', \"'re\", 'to', 'done', 'are', 'herself', 'into', 'nothing', 'seem', 'eleven', 'toward', 'yet', 'formerly', 'six', 're', 'however', 'somehow'}\n"
          ],
          "name": "stdout"
        }
      ]
    },
    {
      "cell_type": "code",
      "metadata": {
        "id": "SO_cDk8Ga1Tk",
        "colab_type": "code",
        "colab": {}
      },
      "source": [
        ""
      ],
      "execution_count": 0,
      "outputs": []
    }
  ]
}